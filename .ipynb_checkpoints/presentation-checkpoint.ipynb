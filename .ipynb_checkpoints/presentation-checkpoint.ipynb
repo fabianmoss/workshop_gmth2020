{
 "cells": [
  {
   "cell_type": "markdown",
   "metadata": {
    "slideshow": {
     "slide_type": "slide"
    }
   },
   "source": [
    "# Analyzing musical pieces on the Tonnetz <br /> using the *pitchplots* Python library\n",
    "\n",
    "**20. Jahreskongress der Gesellschaft für Musiktheorie (GMTH)**\n",
    "\n",
    "*3. Oktober, 2020, 15:00-15:25 Uhr*\n",
    "\n",
    "Fabian C. Moss ([fabian.moss@epfl.ch](mailto:fabian.moss@epfl.ch))\n",
    "\n",
    "<img src=\"img/EPFL.png\" width=\"200px\">\n"
   ]
  },
  {
   "cell_type": "markdown",
   "metadata": {
    "slideshow": {
     "slide_type": "slide"
    }
   },
   "source": [
    "## Übersicht\n",
    "\n",
    "1. Motivation\n",
    "2. Musiktheoretischer Hintergrund\n",
    "3. Installation und Benutzung von *pitchplots*\n",
    "4. Beispiele"
   ]
  },
  {
   "cell_type": "markdown",
   "metadata": {
    "slideshow": {
     "slide_type": "slide"
    }
   },
   "source": [
    "## 1. Motivation"
   ]
  },
  {
   "cell_type": "markdown",
   "metadata": {
    "slideshow": {
     "slide_type": "slide"
    }
   },
   "source": [
    "## 2. Musiktheoretischer Hintergrund"
   ]
  },
  {
   "cell_type": "markdown",
   "metadata": {},
   "source": [
    "* 19th century harmonic theory\n",
    "* Neo-Riemannian theory"
   ]
  },
  {
   "cell_type": "markdown",
   "metadata": {
    "slideshow": {
     "slide_type": "slide"
    }
   },
   "source": [
    "## 3. Installation und Benutzung von pitchplots"
   ]
  },
  {
   "cell_type": "markdown",
   "metadata": {
    "slideshow": {
     "slide_type": "slide"
    }
   },
   "source": [
    "Zwei grundsätzliche Arten, *pitchplots* zu nutzen:\n",
    "\n",
    "1. Lokal auf dem eigenen Rechner:\n",
    "    1. Vorbedingung: [Anaconda](https://www.anaconda.com/products/individual) installieren\n",
    "    2. Klonen von GitHub repository `git clone https://github.com/DCMLab/pitchplots`\n",
    "    3. Installation via PIP: `pip install pitchplots`\n",
    "2. Online mittels Binder:\n",
    "    1. Aufrufen von [mybinder.org](https://mybinder.org/)\n",
    "    2. Kopieren der Adresse `https://github.com/DCMLab/pitchplots` in das Feld \"GitHub\"\n",
    "    3. Auf \"Launch\" klicken.\n",
    "    4. Navigieren in Ordner `/notebooks/`\n",
    "    5. Öffnen eines Tutorials durch Klicken auf einen Dateinamen"
   ]
  },
  {
   "cell_type": "markdown",
   "metadata": {
    "slideshow": {
     "slide_type": "slide"
    }
   },
   "source": [
    "## 4. Beispiele"
   ]
  },
  {
   "cell_type": "markdown",
   "metadata": {
    "slideshow": {
     "slide_type": "subslide"
    }
   },
   "source": [
    "Wir wechseln jetzt in ein Notebook."
   ]
  },
  {
   "cell_type": "code",
   "execution_count": 1,
   "metadata": {},
   "outputs": [],
   "source": [
    "from pitchplots.parser import xml_to_csv"
   ]
  },
  {
   "cell_type": "code",
   "execution_count": 2,
   "metadata": {},
   "outputs": [],
   "source": [
    "df = xml_to_csv(\"data/75900-24_Preludes_from_Chopins_Opus_28_5.musicxml\")"
   ]
  },
  {
   "cell_type": "code",
   "execution_count": 3,
   "metadata": {},
   "outputs": [
    {
     "data": {
      "text/html": [
       "<div>\n",
       "<style scoped>\n",
       "    .dataframe tbody tr th:only-of-type {\n",
       "        vertical-align: middle;\n",
       "    }\n",
       "\n",
       "    .dataframe tbody tr th {\n",
       "        vertical-align: top;\n",
       "    }\n",
       "\n",
       "    .dataframe thead th {\n",
       "        text-align: right;\n",
       "    }\n",
       "</style>\n",
       "<table border=\"1\" class=\"dataframe\">\n",
       "  <thead>\n",
       "    <tr style=\"text-align: right;\">\n",
       "      <th></th>\n",
       "      <th>filepath</th>\n",
       "      <th>qpm</th>\n",
       "      <th>time_sign_num</th>\n",
       "      <th>time_sign_den</th>\n",
       "      <th>measure_no</th>\n",
       "      <th>no_accs</th>\n",
       "      <th>mode</th>\n",
       "      <th>key_area</th>\n",
       "      <th>type</th>\n",
       "      <th>note_name</th>\n",
       "      <th>tpc</th>\n",
       "      <th>step</th>\n",
       "      <th>acc</th>\n",
       "      <th>octave</th>\n",
       "      <th>pitch</th>\n",
       "      <th>pitch_class</th>\n",
       "      <th>duration</th>\n",
       "      <th>onset</th>\n",
       "      <th>onset_seconds</th>\n",
       "    </tr>\n",
       "  </thead>\n",
       "  <tbody>\n",
       "    <tr>\n",
       "      <th>0</th>\n",
       "      <td>data/75900-24_Preludes_from_Chopins_Opus_28_5....</td>\n",
       "      <td>46.0</td>\n",
       "      <td>3</td>\n",
       "      <td>8</td>\n",
       "      <td>1</td>\n",
       "      <td>2</td>\n",
       "      <td>major</td>\n",
       "      <td>0</td>\n",
       "      <td>note</td>\n",
       "      <td>B4</td>\n",
       "      <td>B</td>\n",
       "      <td>B</td>\n",
       "      <td>0</td>\n",
       "      <td>4</td>\n",
       "      <td>71</td>\n",
       "      <td>11</td>\n",
       "      <td>0.0625</td>\n",
       "      <td>0</td>\n",
       "      <td>0</td>\n",
       "    </tr>\n",
       "    <tr>\n",
       "      <th>1</th>\n",
       "      <td>data/75900-24_Preludes_from_Chopins_Opus_28_5....</td>\n",
       "      <td>46.0</td>\n",
       "      <td>3</td>\n",
       "      <td>8</td>\n",
       "      <td>1</td>\n",
       "      <td>2</td>\n",
       "      <td>major</td>\n",
       "      <td>0</td>\n",
       "      <td>note</td>\n",
       "      <td>A4</td>\n",
       "      <td>A</td>\n",
       "      <td>A</td>\n",
       "      <td>0</td>\n",
       "      <td>4</td>\n",
       "      <td>69</td>\n",
       "      <td>9</td>\n",
       "      <td>0.0625</td>\n",
       "      <td>0.166667</td>\n",
       "      <td>0.326087</td>\n",
       "    </tr>\n",
       "    <tr>\n",
       "      <th>2</th>\n",
       "      <td>data/75900-24_Preludes_from_Chopins_Opus_28_5....</td>\n",
       "      <td>46.0</td>\n",
       "      <td>3</td>\n",
       "      <td>8</td>\n",
       "      <td>1</td>\n",
       "      <td>2</td>\n",
       "      <td>major</td>\n",
       "      <td>0</td>\n",
       "      <td>note</td>\n",
       "      <td>C#4</td>\n",
       "      <td>C#</td>\n",
       "      <td>C</td>\n",
       "      <td>1</td>\n",
       "      <td>4</td>\n",
       "      <td>61</td>\n",
       "      <td>1</td>\n",
       "      <td>0.0625</td>\n",
       "      <td>0.333333</td>\n",
       "      <td>0.652174</td>\n",
       "    </tr>\n",
       "    <tr>\n",
       "      <th>3</th>\n",
       "      <td>data/75900-24_Preludes_from_Chopins_Opus_28_5....</td>\n",
       "      <td>46.0</td>\n",
       "      <td>3</td>\n",
       "      <td>8</td>\n",
       "      <td>1</td>\n",
       "      <td>2</td>\n",
       "      <td>major</td>\n",
       "      <td>0</td>\n",
       "      <td>note</td>\n",
       "      <td>B4</td>\n",
       "      <td>B</td>\n",
       "      <td>B</td>\n",
       "      <td>0</td>\n",
       "      <td>4</td>\n",
       "      <td>71</td>\n",
       "      <td>11</td>\n",
       "      <td>0.0625</td>\n",
       "      <td>0.5</td>\n",
       "      <td>0.978261</td>\n",
       "    </tr>\n",
       "    <tr>\n",
       "      <th>4</th>\n",
       "      <td>data/75900-24_Preludes_from_Chopins_Opus_28_5....</td>\n",
       "      <td>46.0</td>\n",
       "      <td>3</td>\n",
       "      <td>8</td>\n",
       "      <td>1</td>\n",
       "      <td>2</td>\n",
       "      <td>major</td>\n",
       "      <td>0</td>\n",
       "      <td>note</td>\n",
       "      <td>E5</td>\n",
       "      <td>E</td>\n",
       "      <td>E</td>\n",
       "      <td>0</td>\n",
       "      <td>5</td>\n",
       "      <td>76</td>\n",
       "      <td>4</td>\n",
       "      <td>0.0625</td>\n",
       "      <td>0.666667</td>\n",
       "      <td>1.30435</td>\n",
       "    </tr>\n",
       "    <tr>\n",
       "      <th>...</th>\n",
       "      <td>...</td>\n",
       "      <td>...</td>\n",
       "      <td>...</td>\n",
       "      <td>...</td>\n",
       "      <td>...</td>\n",
       "      <td>...</td>\n",
       "      <td>...</td>\n",
       "      <td>...</td>\n",
       "      <td>...</td>\n",
       "      <td>...</td>\n",
       "      <td>...</td>\n",
       "      <td>...</td>\n",
       "      <td>...</td>\n",
       "      <td>...</td>\n",
       "      <td>...</td>\n",
       "      <td>...</td>\n",
       "      <td>...</td>\n",
       "      <td>...</td>\n",
       "      <td>...</td>\n",
       "    </tr>\n",
       "    <tr>\n",
       "      <th>506</th>\n",
       "      <td>data/75900-24_Preludes_from_Chopins_Opus_28_5....</td>\n",
       "      <td>46.0</td>\n",
       "      <td>3</td>\n",
       "      <td>8</td>\n",
       "      <td>39</td>\n",
       "      <td>2</td>\n",
       "      <td>major</td>\n",
       "      <td>0</td>\n",
       "      <td>note</td>\n",
       "      <td>D3</td>\n",
       "      <td>D</td>\n",
       "      <td>D</td>\n",
       "      <td>0</td>\n",
       "      <td>3</td>\n",
       "      <td>50</td>\n",
       "      <td>2</td>\n",
       "      <td>0.1250</td>\n",
       "      <td>45.7647</td>\n",
       "      <td>89.5396</td>\n",
       "    </tr>\n",
       "    <tr>\n",
       "      <th>507</th>\n",
       "      <td>data/75900-24_Preludes_from_Chopins_Opus_28_5....</td>\n",
       "      <td>46.0</td>\n",
       "      <td>3</td>\n",
       "      <td>8</td>\n",
       "      <td>39</td>\n",
       "      <td>2</td>\n",
       "      <td>major</td>\n",
       "      <td>0</td>\n",
       "      <td>note</td>\n",
       "      <td>A3</td>\n",
       "      <td>A</td>\n",
       "      <td>A</td>\n",
       "      <td>0</td>\n",
       "      <td>3</td>\n",
       "      <td>57</td>\n",
       "      <td>9</td>\n",
       "      <td>0.1250</td>\n",
       "      <td>45.7647</td>\n",
       "      <td>89.5396</td>\n",
       "    </tr>\n",
       "    <tr>\n",
       "      <th>508</th>\n",
       "      <td>data/75900-24_Preludes_from_Chopins_Opus_28_5....</td>\n",
       "      <td>46.0</td>\n",
       "      <td>3</td>\n",
       "      <td>8</td>\n",
       "      <td>39</td>\n",
       "      <td>2</td>\n",
       "      <td>major</td>\n",
       "      <td>0</td>\n",
       "      <td>note</td>\n",
       "      <td>D4</td>\n",
       "      <td>D</td>\n",
       "      <td>D</td>\n",
       "      <td>0</td>\n",
       "      <td>4</td>\n",
       "      <td>62</td>\n",
       "      <td>2</td>\n",
       "      <td>0.1250</td>\n",
       "      <td>45.7647</td>\n",
       "      <td>89.5396</td>\n",
       "    </tr>\n",
       "    <tr>\n",
       "      <th>509</th>\n",
       "      <td>data/75900-24_Preludes_from_Chopins_Opus_28_5....</td>\n",
       "      <td>46.0</td>\n",
       "      <td>3</td>\n",
       "      <td>8</td>\n",
       "      <td>39</td>\n",
       "      <td>2</td>\n",
       "      <td>major</td>\n",
       "      <td>0</td>\n",
       "      <td>rest</td>\n",
       "      <td>NaN</td>\n",
       "      <td>NaN</td>\n",
       "      <td>NaN</td>\n",
       "      <td>NaN</td>\n",
       "      <td>NaN</td>\n",
       "      <td>NaN</td>\n",
       "      <td>NaN</td>\n",
       "      <td>0.1250</td>\n",
       "      <td>41.8824</td>\n",
       "      <td>81.9437</td>\n",
       "    </tr>\n",
       "    <tr>\n",
       "      <th>510</th>\n",
       "      <td>data/75900-24_Preludes_from_Chopins_Opus_28_5....</td>\n",
       "      <td>46.0</td>\n",
       "      <td>3</td>\n",
       "      <td>8</td>\n",
       "      <td>39</td>\n",
       "      <td>2</td>\n",
       "      <td>major</td>\n",
       "      <td>0</td>\n",
       "      <td>rest</td>\n",
       "      <td>NaN</td>\n",
       "      <td>NaN</td>\n",
       "      <td>NaN</td>\n",
       "      <td>NaN</td>\n",
       "      <td>NaN</td>\n",
       "      <td>NaN</td>\n",
       "      <td>NaN</td>\n",
       "      <td>0.1250</td>\n",
       "      <td>38</td>\n",
       "      <td>74.3478</td>\n",
       "    </tr>\n",
       "  </tbody>\n",
       "</table>\n",
       "<p>510 rows × 19 columns</p>\n",
       "</div>"
      ],
      "text/plain": [
       "                                              filepath   qpm time_sign_num  \\\n",
       "0    data/75900-24_Preludes_from_Chopins_Opus_28_5....  46.0             3   \n",
       "1    data/75900-24_Preludes_from_Chopins_Opus_28_5....  46.0             3   \n",
       "2    data/75900-24_Preludes_from_Chopins_Opus_28_5....  46.0             3   \n",
       "3    data/75900-24_Preludes_from_Chopins_Opus_28_5....  46.0             3   \n",
       "4    data/75900-24_Preludes_from_Chopins_Opus_28_5....  46.0             3   \n",
       "..                                                 ...   ...           ...   \n",
       "506  data/75900-24_Preludes_from_Chopins_Opus_28_5....  46.0             3   \n",
       "507  data/75900-24_Preludes_from_Chopins_Opus_28_5....  46.0             3   \n",
       "508  data/75900-24_Preludes_from_Chopins_Opus_28_5....  46.0             3   \n",
       "509  data/75900-24_Preludes_from_Chopins_Opus_28_5....  46.0             3   \n",
       "510  data/75900-24_Preludes_from_Chopins_Opus_28_5....  46.0             3   \n",
       "\n",
       "    time_sign_den measure_no no_accs   mode key_area  type note_name  tpc  \\\n",
       "0               8          1       2  major        0  note        B4    B   \n",
       "1               8          1       2  major        0  note        A4    A   \n",
       "2               8          1       2  major        0  note       C#4   C#   \n",
       "3               8          1       2  major        0  note        B4    B   \n",
       "4               8          1       2  major        0  note        E5    E   \n",
       "..            ...        ...     ...    ...      ...   ...       ...  ...   \n",
       "506             8         39       2  major        0  note        D3    D   \n",
       "507             8         39       2  major        0  note        A3    A   \n",
       "508             8         39       2  major        0  note        D4    D   \n",
       "509             8         39       2  major        0  rest       NaN  NaN   \n",
       "510             8         39       2  major        0  rest       NaN  NaN   \n",
       "\n",
       "    step  acc octave pitch pitch_class  duration     onset onset_seconds  \n",
       "0      B    0      4    71          11    0.0625         0             0  \n",
       "1      A    0      4    69           9    0.0625  0.166667      0.326087  \n",
       "2      C    1      4    61           1    0.0625  0.333333      0.652174  \n",
       "3      B    0      4    71          11    0.0625       0.5      0.978261  \n",
       "4      E    0      5    76           4    0.0625  0.666667       1.30435  \n",
       "..   ...  ...    ...   ...         ...       ...       ...           ...  \n",
       "506    D    0      3    50           2    0.1250   45.7647       89.5396  \n",
       "507    A    0      3    57           9    0.1250   45.7647       89.5396  \n",
       "508    D    0      4    62           2    0.1250   45.7647       89.5396  \n",
       "509  NaN  NaN    NaN   NaN         NaN    0.1250   41.8824       81.9437  \n",
       "510  NaN  NaN    NaN   NaN         NaN    0.1250        38       74.3478  \n",
       "\n",
       "[510 rows x 19 columns]"
      ]
     },
     "execution_count": 3,
     "metadata": {},
     "output_type": "execute_result"
    }
   ],
   "source": [
    "df"
   ]
  },
  {
   "cell_type": "code",
   "execution_count": 4,
   "metadata": {},
   "outputs": [],
   "source": [
    "from pitchplots.static import tonnetz"
   ]
  },
  {
   "cell_type": "code",
   "execution_count": 36,
   "metadata": {},
   "outputs": [
    {
     "data": {
      "image/png": "[encoded data removed]",
      "text/plain": [
       "<Figure size 720x720 with 1 Axes>"
      ]
     },
     "execution_count": 36,
     "metadata": {},
     "output_type": "execute_result"
    }
   ],
   "source": [
    "tonnetz(df, pitch_type=\"tpc\", pitch_class_display=True, hex_size=1, figsize=[10,10], fontsize=2, colorbar=False, radius=4)"
   ]
  },
  {
   "cell_type": "code",
   "execution_count": null,
   "metadata": {},
   "outputs": [],
   "source": []
  }
 ],
 "metadata": {
  "kernelspec": {
   "display_name": "Python 3",
   "language": "python",
   "name": "python3"
  },
  "language_info": {
   "codemirror_mode": {
    "name": "ipython",
    "version": 3
   },
   "file_extension": ".py",
   "mimetype": "text/x-python",
   "name": "python",
   "nbconvert_exporter": "python",
   "pygments_lexer": "ipython3",
   "version": "3.8.3"
  }
 },
 "nbformat": 4,
 "nbformat_minor": 4
}
